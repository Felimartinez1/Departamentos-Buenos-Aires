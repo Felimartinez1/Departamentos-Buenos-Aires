{
 "cells": [
  {
   "cell_type": "code",
   "execution_count": 7,
   "id": "40c24ad3",
   "metadata": {},
   "outputs": [
    {
     "name": "stdout",
     "output_type": "stream",
     "text": [
      "<class 'pandas.core.frame.DataFrame'>\n",
      "RangeIndex: 24 entries, 0 to 23\n",
      "Data columns (total 13 columns):\n",
      " #   Column              Non-Null Count  Dtype  \n",
      "---  ------              --------------  -----  \n",
      " 0   Link                24 non-null     object \n",
      " 1   Título              24 non-null     object \n",
      " 2   Valor Alquiler      24 non-null     object \n",
      " 3   Expensas            21 non-null     object \n",
      " 4   Dirección           24 non-null     object \n",
      " 5   Barrio              24 non-null     object \n",
      " 6   Metros Cuadrados    24 non-null     float64\n",
      " 7   Ambientes           24 non-null     int64  \n",
      " 8   Dormitorios         20 non-null     float64\n",
      " 9   Baños               24 non-null     int64  \n",
      " 10  Cocheras            4 non-null      float64\n",
      " 11  Años de Antigüedad  24 non-null     int64  \n",
      " 12  Descripción         24 non-null     object \n",
      "dtypes: float64(3), int64(3), object(7)\n",
      "memory usage: 2.6+ KB\n"
     ]
    }
   ],
   "source": [
    "import pandas as pd\n",
    "\n",
    "### leer el csv de detalles_remax.csv\n",
    "df = pd.read_csv(\"../data/detalles_remax.csv\", sep=\";\")\n",
    "df.info()"
   ]
  },
  {
   "cell_type": "code",
   "execution_count": 2,
   "id": "928db1be",
   "metadata": {},
   "outputs": [],
   "source": [
    "import pandas as pd\n",
    "\n",
    "### leer el csv de detalles_remax.csv\n",
    "df = pd.read_csv(\"../data/detalles_zona.csv\", sep=\";\")"
   ]
  },
  {
   "cell_type": "code",
   "execution_count": 4,
   "id": "f9b05aef",
   "metadata": {},
   "outputs": [
    {
     "name": "stdout",
     "output_type": "stream",
     "text": [
      "<class 'pandas.core.frame.DataFrame'>\n",
      "RangeIndex: 11694 entries, 0 to 11693\n",
      "Data columns (total 13 columns):\n",
      " #   Column              Non-Null Count  Dtype  \n",
      "---  ------              --------------  -----  \n",
      " 0   Link                11694 non-null  object \n",
      " 1   Título              11694 non-null  object \n",
      " 2   Valor Alquiler      11694 non-null  object \n",
      " 3   Expensas            0 non-null      float64\n",
      " 4   Dirección           11694 non-null  object \n",
      " 5   Barrio              11694 non-null  object \n",
      " 6   Metros Cuadrados    11486 non-null  float64\n",
      " 7   Ambientes           11523 non-null  float64\n",
      " 8   Dormitorios         8826 non-null   float64\n",
      " 9   Baños               11268 non-null  float64\n",
      " 10  Cocheras            2468 non-null   float64\n",
      " 11  Años de Antigüedad  9633 non-null   float64\n",
      " 12  Descripción         11688 non-null  object \n",
      "dtypes: float64(7), object(6)\n",
      "memory usage: 1.2+ MB\n"
     ]
    }
   ],
   "source": [
    "df.info()"
   ]
  },
  {
   "cell_type": "code",
   "execution_count": 5,
   "id": "f7c1bc71",
   "metadata": {},
   "outputs": [
    {
     "name": "stdout",
     "output_type": "stream",
     "text": [
      "<class 'pandas.core.frame.DataFrame'>\n",
      "RangeIndex: 1606 entries, 0 to 1605\n",
      "Data columns (total 20 columns):\n",
      " #   Column                       Non-Null Count  Dtype \n",
      "---  ------                       --------------  ----- \n",
      " 0   Título                       1606 non-null   object\n",
      " 1   Valor Alquiler               1606 non-null   int64 \n",
      " 2   Expensas                     1606 non-null   int64 \n",
      " 3   Dirección                    1606 non-null   object\n",
      " 4   Barrio                       1606 non-null   object\n",
      " 5   Metros Cuadrados             1606 non-null   int64 \n",
      " 6   Ambientes                    1606 non-null   int64 \n",
      " 7   Dormitorios                  1606 non-null   int64 \n",
      " 8   Baños                        1606 non-null   int64 \n",
      " 9   Cocheras                     1606 non-null   int64 \n",
      " 10  Años de Antigüedad           1606 non-null   int64 \n",
      " 11  Descripción                  1606 non-null   object\n",
      " 12  Link                         1606 non-null   object\n",
      " 13  Plataforma                   1606 non-null   object\n",
      " 14  Moneda                       1606 non-null   object\n",
      " 15  Valor Alquiler(normalizado)  1606 non-null   int64 \n",
      " 16  Amoblado                     1606 non-null   int64 \n",
      " 17  Barrio Principal             1606 non-null   object\n",
      " 18  Expensas Predichas           1606 non-null   int64 \n",
      " 19  Id                           1606 non-null   int64 \n",
      "dtypes: int64(12), object(8)\n",
      "memory usage: 251.1+ KB\n"
     ]
    }
   ],
   "source": [
    "import pandas as pd\n",
    "\n",
    "### leer el csv de detalles_remax.csv\n",
    "df = pd.read_csv(\"../data/cleaned_data.csv\")\n",
    "\n",
    "df.info()"
   ]
  },
  {
   "cell_type": "code",
   "execution_count": 9,
   "id": "85e9da46",
   "metadata": {},
   "outputs": [
    {
     "name": "stdout",
     "output_type": "stream",
     "text": [
      "<class 'pandas.core.frame.DataFrame'>\n",
      "RangeIndex: 11694 entries, 0 to 11693\n",
      "Data columns (total 13 columns):\n",
      " #   Column              Non-Null Count  Dtype  \n",
      "---  ------              --------------  -----  \n",
      " 0   Link                11694 non-null  object \n",
      " 1   Título              11694 non-null  object \n",
      " 2   Valor Alquiler      11694 non-null  object \n",
      " 3   Expensas            0 non-null      float64\n",
      " 4   Dirección           11694 non-null  object \n",
      " 5   Barrio              11694 non-null  object \n",
      " 6   Metros Cuadrados    11486 non-null  float64\n",
      " 7   Ambientes           11523 non-null  float64\n",
      " 8   Dormitorios         8826 non-null   float64\n",
      " 9   Baños               11268 non-null  float64\n",
      " 10  Cocheras            2468 non-null   float64\n",
      " 11  Años de Antigüedad  9633 non-null   float64\n",
      " 12  Descripción         11688 non-null  object \n",
      "dtypes: float64(7), object(6)\n",
      "memory usage: 1.2+ MB\n"
     ]
    }
   ],
   "source": [
    "import pandas as pd\n",
    "\n",
    "### leer el csv de detalles_remax.csv\n",
    "df = pd.read_csv(\"../data/detalles_zona.csv\", sep=\";\")\n",
    "df.info()"
   ]
  }
 ],
 "metadata": {
  "kernelspec": {
   "display_name": "base",
   "language": "python",
   "name": "python3"
  },
  "language_info": {
   "codemirror_mode": {
    "name": "ipython",
    "version": 3
   },
   "file_extension": ".py",
   "mimetype": "text/x-python",
   "name": "python",
   "nbconvert_exporter": "python",
   "pygments_lexer": "ipython3",
   "version": "3.9.17"
  }
 },
 "nbformat": 4,
 "nbformat_minor": 5
}
