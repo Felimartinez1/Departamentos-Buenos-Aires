{
 "cells": [
  {
   "cell_type": "code",
   "execution_count": 7,
   "id": "40c24ad3",
   "metadata": {},
   "outputs": [
    {
     "name": "stdout",
     "output_type": "stream",
     "text": [
      "<class 'pandas.core.frame.DataFrame'>\n",
      "RangeIndex: 24 entries, 0 to 23\n",
      "Data columns (total 13 columns):\n",
      " #   Column              Non-Null Count  Dtype  \n",
      "---  ------              --------------  -----  \n",
      " 0   Link                24 non-null     object \n",
      " 1   Título              24 non-null     object \n",
      " 2   Valor Alquiler      24 non-null     object \n",
      " 3   Expensas            21 non-null     object \n",
      " 4   Dirección           24 non-null     object \n",
      " 5   Barrio              24 non-null     object \n",
      " 6   Metros Cuadrados    24 non-null     float64\n",
      " 7   Ambientes           24 non-null     int64  \n",
      " 8   Dormitorios         20 non-null     float64\n",
      " 9   Baños               24 non-null     int64  \n",
      " 10  Cocheras            4 non-null      float64\n",
      " 11  Años de Antigüedad  24 non-null     int64  \n",
      " 12  Descripción         24 non-null     object \n",
      "dtypes: float64(3), int64(3), object(7)\n",
      "memory usage: 2.6+ KB\n"
     ]
    }
   ],
   "source": [
    "import pandas as pd\n",
    "\n",
    "### leer el csv de detalles_remax.csv\n",
    "df = pd.read_csv(\"../data/detalles_remax.csv\", sep=\";\")\n",
    "df.info()"
   ]
  },
  {
   "cell_type": "code",
   "execution_count": null,
   "id": "928db1be",
   "metadata": {},
   "outputs": [],
   "source": [
    "import pandas as pd\n",
    "\n",
    "### leer el csv de detalles_remax.csv\n",
    "df = pd.read_csv(\"../data/detalles_zona.csv\", sep=\";\")"
   ]
  },
  {
   "cell_type": "code",
   "execution_count": 4,
   "id": "f9b05aef",
   "metadata": {},
   "outputs": [
    {
     "name": "stdout",
     "output_type": "stream",
     "text": [
      "<class 'pandas.core.frame.DataFrame'>\n",
      "RangeIndex: 11843 entries, 0 to 11842\n",
      "Data columns (total 13 columns):\n",
      " #   Column              Non-Null Count  Dtype  \n",
      "---  ------              --------------  -----  \n",
      " 0   Link                11843 non-null  object \n",
      " 1   Título              11843 non-null  object \n",
      " 2   Valor Alquiler      11843 non-null  object \n",
      " 3   Expensas            10271 non-null  object \n",
      " 4   Dirección           11843 non-null  object \n",
      " 5   Barrio              11843 non-null  object \n",
      " 6   Metros Cuadrados    11662 non-null  float64\n",
      " 7   Ambientes           11686 non-null  float64\n",
      " 8   Dormitorios         8989 non-null   float64\n",
      " 9   Baños               11465 non-null  float64\n",
      " 10  Cocheras            2267 non-null   float64\n",
      " 11  Años de Antigüedad  9887 non-null   float64\n",
      " 12  Descripción         11842 non-null  object \n",
      "dtypes: float64(6), object(7)\n",
      "memory usage: 1.2+ MB\n"
     ]
    }
   ],
   "source": [
    "df.info()"
   ]
  },
  {
   "cell_type": "code",
   "execution_count": 2,
   "id": "e3ccf779",
   "metadata": {},
   "outputs": [
    {
     "name": "stdout",
     "output_type": "stream",
     "text": [
      "Defaulting to user installation because normal site-packages is not writeable\n",
      "Collecting openpyxl\n",
      "  Downloading openpyxl-3.1.5-py2.py3-none-any.whl.metadata (2.5 kB)\n",
      "Collecting et-xmlfile (from openpyxl)\n",
      "  Downloading et_xmlfile-2.0.0-py3-none-any.whl.metadata (2.7 kB)\n",
      "Downloading openpyxl-3.1.5-py2.py3-none-any.whl (250 kB)\n",
      "Downloading et_xmlfile-2.0.0-py3-none-any.whl (18 kB)\n",
      "Installing collected packages: et-xmlfile, openpyxl\n",
      "Successfully installed et-xmlfile-2.0.0 openpyxl-3.1.5\n",
      "Note: you may need to restart the kernel to use updated packages.\n"
     ]
    },
    {
     "name": "stderr",
     "output_type": "stream",
     "text": [
      "\n",
      "[notice] A new release of pip is available: 25.0.1 -> 25.1.1\n",
      "[notice] To update, run: C:\\Users\\felim\\AppData\\Local\\Microsoft\\WindowsApps\\PythonSoftwareFoundation.Python.3.13_qbz5n2kfra8p0\\python.exe -m pip install --upgrade pip\n"
     ]
    }
   ],
   "source": [
    "pip install openpyxl"
   ]
  },
  {
   "cell_type": "code",
   "execution_count": 3,
   "id": "f7c1bc71",
   "metadata": {},
   "outputs": [
    {
     "name": "stdout",
     "output_type": "stream",
     "text": [
      "<class 'pandas.core.frame.DataFrame'>\n",
      "RangeIndex: 11056 entries, 0 to 11055\n",
      "Data columns (total 22 columns):\n",
      " #   Column                       Non-Null Count  Dtype  \n",
      "---  ------                       --------------  -----  \n",
      " 0   Título                       11056 non-null  object \n",
      " 1   Valor Alquiler               11056 non-null  int64  \n",
      " 2   Expensas                     11056 non-null  int64  \n",
      " 3   Dirección                    11056 non-null  object \n",
      " 4   Barrio                       11056 non-null  object \n",
      " 5   Metros Cuadrados             11056 non-null  int64  \n",
      " 6   Ambientes                    11056 non-null  int64  \n",
      " 7   Dormitorios                  11056 non-null  int64  \n",
      " 8   Baños                        11056 non-null  int64  \n",
      " 9   Cocheras                     11056 non-null  int64  \n",
      " 10  Años de Antigüedad           11056 non-null  int64  \n",
      " 11  Descripción                  11056 non-null  object \n",
      " 12  Link                         11056 non-null  object \n",
      " 13  Plataforma                   11056 non-null  object \n",
      " 14  Moneda                       11056 non-null  object \n",
      " 15  Valor Alquiler(normalizado)  11056 non-null  int64  \n",
      " 16  Amoblado                     11056 non-null  int64  \n",
      " 17  Barrio Principal             11056 non-null  object \n",
      " 18  Expensas Predichas           11056 non-null  int64  \n",
      " 19  Id                           11056 non-null  int64  \n",
      " 20  Lat                          9425 non-null   float64\n",
      " 21  Lon                          9425 non-null   float64\n",
      "dtypes: float64(2), int64(12), object(8)\n",
      "memory usage: 1.9+ MB\n"
     ]
    }
   ],
   "source": [
    "import pandas as pd\n",
    "\n",
    "### leer el csv de detalles_remax.csv\n",
    "df = pd.read_excel(\"../data/cleaned_data.xlsx\")\n",
    "\n",
    "df.info()"
   ]
  },
  {
   "cell_type": "code",
   "execution_count": 8,
   "id": "6291b321",
   "metadata": {},
   "outputs": [],
   "source": [
    "import numpy as np\n",
    "import pandas as pd\n",
    "\n",
    "# Mapeo de sub-barrios a barrio principal\n",
    "BARRIOS_EQUIVALENTES = {\n",
    "    \"Palermo Chico\": \"Palermo\",\n",
    "    \"Palermo Soho\": \"Palermo\",\n",
    "    \"Palermo Hollywood\": \"Palermo\",\n",
    "    \"Palermo Viejo\": \"Palermo\",\n",
    "    \"Las Cañitas\": \"Palermo\",\n",
    "    \"Barrio Norte\": \"Recoleta\",\n",
    "    \"Plaza Francia\": \"Recoleta\",\n",
    "    \"Facultad de Derecho\": \"Recoleta\",\n",
    "    \"Catalinas\": \"Retiro\",\n",
    "    \"Microcentro\": \"San Nicolás\",\n",
    "    \"Centro\": \"San Nicolás\",\n",
    "    \"Abasto\": \"Balvanera\",\n",
    "    \"Almagro Norte\": \"Almagro\",\n",
    "    \"Parque Centenario\": \"Caballito\",\n",
    "    \"San Telmo\": \"San Telmo\",\n",
    "    \"Constitución\": \"Constitución\",\n",
    "    \"Belgrano R\": \"Belgrano\",\n",
    "    \"Belgrano C\": \"Belgrano\",\n",
    "    \"Chinatown\": \"Belgrano\",\n",
    "    \"Barrancas de Belgrano\": \"Belgrano\",\n",
    "    \"Barrio Chino\": \"Belgrano\",\n",
    "    \"La Chacarita\": \"Chacarita\",\n",
    "    \"Monserrat\": \"Montserrat\",\n",
    "    \"Puerto Madero\": \"Puerto Madero\",\n",
    "    \"Villa Crespo\": \"Villa Crespo\",\n",
    "    \"Once\": \"Balvanera\",\n",
    "    \"Parque Patricios\": \"Parque Patricios\",\n",
    "    \"Villa General Mitre\": \"Villa General Mitre\",\n",
    "    \"Villa del Parque\": \"Villa del Parque\",\n",
    "    \"Villa Devoto\": \"Villa Devoto\",\n",
    "    \"Villa Urquiza\": \"Villa Urquiza\",\n",
    "    \"Villa Ortúzar\": \"Villa Ortúzar\",\n",
    "    \"Villa Lugano\": \"Villa Lugano\",\n",
    "    \"Villa Luro\": \"Villa Luro\",\n",
    "    \"Villa Pueyrredón\": \"Villa Pueyrredón\",\n",
    "    \"Villa Riachuelo\": \"Villa Riachuelo\",\n",
    "    \"Liniers\": \"Liniers\",\n",
    "    \"Mataderos\": \"Mataderos\",\n",
    "    \"Parque Avellaneda\": \"Parque Avellaneda\",\n",
    "    \"Parque Chacabuco\": \"Parque Chacabuco\",\n",
    "    \"Parque Chas\": \"Parque Chas\",\n",
    "    \"Núñez\": \"Núñez\",\n",
    "    \"Lomas de Núñez\": \"Núñez\",\n",
    "    \"Saavedra\": \"Saavedra\",\n",
    "    \"Coghlan\": \"Coghlan\",\n",
    "    \"Agronomía\": \"Agronomía\",\n",
    "    \"Flores\": \"Flores\",\n",
    "    \"Floresta\": \"Floresta\",\n",
    "    \"Monte Castro\": \"Monte Castro\",\n",
    "    \"Versalles\": \"Versalles\",\n",
    "    \"Vélez Sarsfield\": \"Vélez Sarsfield\",\n",
    "    \"San Cristóbal\": \"San Cristóbal\",\n",
    "    \"Boedo\": \"Boedo\",\n",
    "    \"Pompeya\": \"Nueva Pompeya\",\n",
    "    \"Boedo Norte\": \"Boedo\",\n",
    "    \"Caballito Norte\": \"Caballito\",\n",
    "    \"Caballito Sur\": \"Caballito\",\n",
    "    \"Villa Crespo Norte\": \"Villa Crespo\",\n",
    "    \"Parque Chacabuco Norte\": \"Parque Chacabuco\",\n",
    "    \n",
    "    # Correcciones de tildes y nombres alternativos\n",
    "    \"Nuñez\": \"Núñez\",\n",
    "    \"Velez Sarsfield\": \"Vélez Sarsfield\",\n",
    "    \"Villa Ortuzar\": \"Villa Ortúzar\",\n",
    "    \"San Cristobal\": \"San Cristóbal\",\n",
    "    \"Flores Norte\": \"Flores\",\n",
    "    \"Flores Sur\": \"Flores\",\n",
    "    \"Floresta Norte\": \"Floresta\",\n",
    "    \"Floresta Sur\": \"Floresta\",\n",
    "    \"Belgrano Chico\": \"Belgrano\",\n",
    "    \"Palermo Nuevo\": \"Palermo\",\n",
    "    \"Almagro Sur\": \"Almagro\",\n",
    "\n",
    "# Zonas específicas a considerar\n",
    "    \"Congreso\": \"Balvanera\",\n",
    "    \"Tribunales\": \"San Nicolás\",\n",
    "    \"Parque Rivadavia\": \"Caballito\",\n",
    "    \"Primera Junta\": \"Caballito\",\n",
    "    \"Cid Campeador\": \"Caballito\",\n",
    "    \"Botánico\": \"Palermo\",\n",
    "    \"Distrito Quartier\": \"Puerto Madero\",\n",
    "    \"Puerto Retiro\": \"Retiro\",\n",
    "    \"Barrio Parque\": \"Palermo\",\n",
    "    \"Barrio Parque General Belgrano\": \"Belgrano\",\n",
    "    \"Naón\": \"Versalles\",  # o Liniers según el caso\n",
    "    \"Otro\": np.nan,\n",
    "\n",
    "    \n",
    "}\n",
    "\n",
    "def extraer_barrio(ubicacion: str) -> str:\n",
    "    if not isinstance(ubicacion, str):\n",
    "        return np.nan\n",
    "\n",
    "    partes = ubicacion.split(',')\n",
    "    if len(partes) == 2:\n",
    "        parte_1 = partes[0].strip()\n",
    "        parte_2 = partes[1].strip()\n",
    "        barrio = parte_2 if parte_2 != 'Capital Federal' else parte_1\n",
    "    else:\n",
    "        barrio = ubicacion.strip()\n",
    "\n",
    "    return BARRIOS_EQUIVALENTES.get(barrio, barrio)\n",
    "\n",
    "def aplicar_extraccion_barrio(df: pd.DataFrame) -> pd.DataFrame:\n",
    "    df['Barrio Principal'] = df['Barrio'].apply(extraer_barrio)\n",
    "    return df\n"
   ]
  },
  {
   "cell_type": "code",
   "execution_count": 11,
   "id": "01105461",
   "metadata": {},
   "outputs": [],
   "source": [
    "def agregar_sufijo_ubicacion(df: pd.DataFrame, columna: str) -> pd.DataFrame:\n",
    "    df[columna] = df[columna].astype(str) + \", Capital Federal, Argentina\"\n",
    "    return df\n",
    "\n",
    "\n",
    "df = agregar_sufijo_ubicacion(df, 'Barrio Principal')\n"
   ]
  },
  {
   "cell_type": "code",
   "execution_count": 12,
   "id": "25d5e956",
   "metadata": {},
   "outputs": [
    {
     "data": {
      "text/plain": [
       "Barrio Principal\n",
       "Palermo, Capital Federal, Argentina                 2309\n",
       "Recoleta, Capital Federal, Argentina                1607\n",
       "Belgrano, Capital Federal, Argentina                 991\n",
       "Caballito, Capital Federal, Argentina                724\n",
       "Almagro, Capital Federal, Argentina                  449\n",
       "Balvanera, Capital Federal, Argentina                434\n",
       "Villa Urquiza, Capital Federal, Argentina            394\n",
       "Núñez, Capital Federal, Argentina                    365\n",
       "Puerto Madero, Capital Federal, Argentina            359\n",
       "Villa Crespo, Capital Federal, Argentina             333\n",
       "Flores, Capital Federal, Argentina                   284\n",
       "San Nicolás, Capital Federal, Argentina              249\n",
       "Retiro, Capital Federal, Argentina                   235\n",
       "San Telmo, Capital Federal, Argentina                217\n",
       "Colegiales, Capital Federal, Argentina               207\n",
       "Montserrat, Capital Federal, Argentina               169\n",
       "Villa del Parque, Capital Federal, Argentina         144\n",
       "Villa Devoto, Capital Federal, Argentina             141\n",
       "Centro / Microcentro, Capital Federal, Argentina     130\n",
       "San Cristóbal, Capital Federal, Argentina            124\n",
       "Chacarita, Capital Federal, Argentina                109\n",
       "Saavedra, Capital Federal, Argentina                 107\n",
       "Barracas, Capital Federal, Argentina                  99\n",
       "Boedo, Capital Federal, Argentina                     86\n",
       "Floresta, Capital Federal, Argentina                  75\n",
       "Villa Pueyrredón, Capital Federal, Argentina          72\n",
       "Coghlan, Capital Federal, Argentina                   61\n",
       "Villa Luro, Capital Federal, Argentina                59\n",
       "Parque Chacabuco, Capital Federal, Argentina          58\n",
       "Constitución, Capital Federal, Argentina              52\n",
       "La Paternal, Capital Federal, Argentina               50\n",
       "Parque Patricios, Capital Federal, Argentina          49\n",
       "Villa Ortúzar, Capital Federal, Argentina             47\n",
       "Liniers, Capital Federal, Argentina                   32\n",
       "Villa Santa Rita, Capital Federal, Argentina          31\n",
       "Villa General Mitre, Capital Federal, Argentina       29\n",
       "Monte Castro, Capital Federal, Argentina              27\n",
       "La Boca, Capital Federal, Argentina                   26\n",
       "Parque Chas, Capital Federal, Argentina               23\n",
       "Mataderos, Capital Federal, Argentina                 20\n",
       "Villa Lugano, Capital Federal, Argentina              17\n",
       "Agronomía, Capital Federal, Argentina                 12\n",
       "Versalles, Capital Federal, Argentina                 12\n",
       "Vélez Sarsfield, Capital Federal, Argentina           12\n",
       "Parque Avellaneda, Capital Federal, Argentina         12\n",
       "Nueva Pompeya, Capital Federal, Argentina             10\n",
       "Villa Soldati, Capital Federal, Argentina              2\n",
       "Villa Real, Capital Federal, Argentina                 1\n",
       "nan, Capital Federal, Argentina                        1\n",
       "Name: count, dtype: int64"
      ]
     },
     "execution_count": 12,
     "metadata": {},
     "output_type": "execute_result"
    }
   ],
   "source": [
    "\n",
    "pd.set_option('display.max_rows', None)\n",
    "df['Barrio Principal'].value_counts()"
   ]
  },
  {
   "cell_type": "code",
   "execution_count": null,
   "id": "4b34d1ec",
   "metadata": {},
   "outputs": [],
   "source": [
    "df.to_excel(\"../data/cleaned_data.xlsx\", index=False)"
   ]
  },
  {
   "cell_type": "code",
   "execution_count": 17,
   "id": "97b90869",
   "metadata": {},
   "outputs": [
    {
     "name": "stdout",
     "output_type": "stream",
     "text": [
      "<class 'pandas.core.frame.DataFrame'>\n",
      "RangeIndex: 11056 entries, 0 to 11055\n",
      "Data columns (total 22 columns):\n",
      " #   Column                       Non-Null Count  Dtype  \n",
      "---  ------                       --------------  -----  \n",
      " 0   Título                       11056 non-null  object \n",
      " 1   Valor Alquiler               11056 non-null  int64  \n",
      " 2   Expensas                     11056 non-null  int64  \n",
      " 3   Dirección                    11056 non-null  object \n",
      " 4   Barrio                       11056 non-null  object \n",
      " 5   Metros Cuadrados             11056 non-null  int64  \n",
      " 6   Ambientes                    11056 non-null  int64  \n",
      " 7   Dormitorios                  11056 non-null  int64  \n",
      " 8   Baños                        11056 non-null  int64  \n",
      " 9   Cocheras                     11056 non-null  int64  \n",
      " 10  Años de Antigüedad           11056 non-null  int64  \n",
      " 11  Descripción                  11056 non-null  object \n",
      " 12  Link                         11056 non-null  object \n",
      " 13  Plataforma                   11056 non-null  object \n",
      " 14  Moneda                       11056 non-null  object \n",
      " 15  Valor Alquiler(normalizado)  11056 non-null  int64  \n",
      " 16  Amoblado                     11056 non-null  int64  \n",
      " 17  Barrio Principal             11056 non-null  object \n",
      " 18  Expensas Predichas           11056 non-null  int64  \n",
      " 19  Id                           11056 non-null  int64  \n",
      " 20  Lat                          9425 non-null   float64\n",
      " 21  Lon                          9425 non-null   float64\n",
      "dtypes: float64(2), int64(12), object(8)\n",
      "memory usage: 1.9+ MB\n"
     ]
    }
   ],
   "source": [
    "df = pd.read_excel(\"../data/cleaned_data.xlsx\")\n",
    "df.info()"
   ]
  }
 ],
 "metadata": {
  "kernelspec": {
   "display_name": "Python 3",
   "language": "python",
   "name": "python3"
  },
  "language_info": {
   "codemirror_mode": {
    "name": "ipython",
    "version": 3
   },
   "file_extension": ".py",
   "mimetype": "text/x-python",
   "name": "python",
   "nbconvert_exporter": "python",
   "pygments_lexer": "ipython3",
   "version": "3.13.3"
  }
 },
 "nbformat": 4,
 "nbformat_minor": 5
}
